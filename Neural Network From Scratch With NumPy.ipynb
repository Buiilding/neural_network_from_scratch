{
 "cells": [
  {
   "cell_type": "markdown",
   "id": "61b19cc7",
   "metadata": {},
   "source": [
    "# Building a Neural Network From Scratch with NumPy\n",
    "\n",
    "The goal of this Notebook is to give a hands-on explanation of how Artificial Neural Networks work. I intentionally avoid frameworks like PyTorch or Tensoflow because I wanted to build a better understanding of what Machine Learning models actually are, what Neural Networks actually are, and how they can be made. This Notebook is a collection of information I wish I had when I began this journey. It touches on a little bit of the math, but I don't re-explain the math. I try to link out to more explanatory sources where I think it's valuable. Note: I am not a Machine Learning engineer, nor am I a Data Scientist. I'm a Software Engineer that turned into a political operative (lol). I wrote this for an audience of Software Engineers. Also: I don't have a GPU and I don't want to spend a bunch of money renting one from Amazon. This model can be trained and deployed on a modern CPU in a matter of minutes."
   ]
  },
  {
   "cell_type": "markdown",
   "id": "b430ab97",
   "metadata": {},
   "source": [
    "## What We'll Be Doing\n",
    "\n",
    "We're going to build a Neural Network for multi-class classification. All that means is we're going to make a model takes in images and attempts to label them from a set of options. In our case, we're going to create a Neural Network that works with the [MNIST database of handwritten digits](https://webcache.googleusercontent.com/search?q=cache:yann.lecun.com/exdb/mnist/). This database contains 70,000 images of handwritten digits, 0 - 9, and corresponding labels of which digit the handwritten image is. We'll use 60,000 of the images to train our Neural Network, and 10,000 to test its accuracy. I've included the data with this Notebook in the `data/` directory.\n",
    "\n",
    "Neural Networks are particularly handy for image classification tasks. There are many other types of Machine Learning out there, but we won't spend any attention on those."
   ]
  },
  {
   "cell_type": "markdown",
   "id": "5b93954a",
   "metadata": {},
   "source": [
    "## Background Concepts"
   ]
  },
  {
   "cell_type": "markdown",
   "id": "d66bf518",
   "metadata": {},
   "source": [
    "### Shape of a Neural Network\n",
    "\n",
    "First of all, let's demystify one thing: Neural Networks are just graphs. Just nodes and edges. If you've studying any Computer Science or have a background in Software Engineering, this is probably a familiar conecpet to you. The exact shape of any given Neural Network is dependant on how you build it, but that's something we get to decide. The graph has an input layer that is usually one node per input feature. In our case, a pixel of an image is a feature. Next, there are one or more hidden layers. This is the part that makes this Deep Learning. The presence of one or more hidden layers is the \"deep\" in Deep learning. There's no standard rule for the size of a hidden layer, or how many you should have. Finally, there's an output layer. Each node in the output layer corresponds to one label. For example, if a possible label to an image is \"cat\" then one node in the output layer represents \"cat\". We're going to make a Neural Network that has a bunch of input layer nodes, a single hidden layer with ten nodes, and an output layer with ten nodes, one for each digit 0 - 9.\n",
    "\n",
    "Here's are drawing of a Neural Network with three input nodes, a hidden layer with four nodes, and an output layer with two nodes. This might be how you would construct a Neural Network that does binary classification: a model that tries to label inputs to one of two options for outputs.\n",
    "\n",
    "| ![Artificial Neural Network](./img/artificial_neural_network.svg)|\n",
    "|:--:|\n",
    "|en:User:Cburnett, [CC BY-SA 3.0](http://creativecommons.org/licenses/by-sa/3.0/), via Wikimedia Commons|\n",
    "\n",
    "If you're looking for more explanation of the structure of Neural Networks, [But what is a Neural Network?](https://www.3blue1brown.com/lessons/neural-networks) by 3Blue1Brown is excellent."
   ]
  },
  {
   "cell_type": "markdown",
   "id": "7d38137a",
   "metadata": {},
   "source": [
    "### How the Neural Network Learns\n",
    "\n",
    "Neural Network start out very stupid. As we'll see, they begin with no more \"intelligence\" than random guessing. Our goal is to iteratively adjust the network's Weights and Biases to make it smarter. We do this in two steps: **Forward Propagation** and **Back Propagation**.\n",
    "\n",
    "#### Forward Propagation\n",
    "\n",
    "Think of this step as showing the Neural Network some input, and asking it to classify it. At the beginning, it's very likely to get it wrong. But, like humans, we need to get things wrong before we know how to get them right. In Forward Propagation, we simply push all our features (pixels) through the Neural Network and ask, \"what did you see?\" The output is all the answers to that question.\n",
    "\n",
    "#### Back Propagation\n",
    "\n",
    "Think of this step as showing the Neural Network how right or wrong its answers were. We take all its answers to, \"what did you see?\" and come up with a measure of how wrong they were. We'll see below that we can assign a numeric value to the accuracy of its answer. From that numerica value, we can work backwards on all the neurons (nodes in the graph) to tell it, \"you were X wrong, and this specific neuron contributed to Y amount of that error; adjust this neuron's Weights and Biases by Z amount and try again.\"\n",
    "\n",
    "3Blue1Brown has another excellent video on the conecepts of Back Propagation: [What is backpropagation really doing?](https://www.3blue1brown.com/lessons/backpropagation)\n",
    "\n",
    "#### Training\n",
    "\n",
    "And that's it! Our Neural Network learns by repeatedly making guesses, seeing how wrong it was, and adjusting its Weights and Biases. We repeat this over and over until it is good at the task! This is a lot like how people learn. Show a small child pictures of various farm animals over and over and ask them to name the animals. At first they're very bad at it, and over time they get very good at it. There's a lot of research out there that our artifical Neural Network is structured and operates like human brain neurons."
   ]
  },
  {
   "cell_type": "markdown",
   "id": "59b585aa",
   "metadata": {},
   "source": [
    "### Gradient Descent\n",
    "\n",
    "Gradient Descent is the most math-y piece of all this. Again, 3Blue1Brown has a great video: [Gradient descent, how neural networks learn](https://www.3blue1brown.com/lessons/gradient-descent). This is the piece that is most choose-your-own-adventure of how much you want to actually understand. I recommend diving in at least a little bit.\n",
    "\n",
    "Imagine being at a point graph and you wanted to find which steps to take to get to the minimum value. If you've taken any calculus before, you know that you can take the slope at the current point to tell you which way to go, and by how much. If you do this over and over, with small steps, you will approach a local minimum. That's a 1-dimensional gradient descent. Our plan is to work with lots of repeated steps to get to a minumum of our \"cost\" function — the function telling us how bad our predictions are.\n",
    "\n",
    "| ![Gradient Descent](./img/GradientDescentGradientStep.svg)|\n",
    "|:--:|\n",
    "|Reducing Loss: Gradient Descent, [CC BY 4.0](https://creativecommons.org/licenses/by/4.0/), via [Google Developers](https://developers.google.com/machine-learning/crash-course/reducing-loss/gradient-descent)|\n",
    "\n",
    "You can do this in two and three domensions as well. In fact, you can do it in as many dimensions as you need, which is very handy, because we're going to be working in a lot of dimensions.\n",
    "\n",
    "| ![Gradient Descent](./img/GradientDescent.gif)|\n",
    "|:--:|\n",
    "|[CC0 1.0 Universal (CC0 1.0) Public Domain Dedication](https://creativecommons.org/publicdomain/zero/1.0/deed.en), via Wikimedia Commons|\n",
    "\n",
    "Ultimately, we keep moving downward in our many-dimensional \"cost\" function to find a minimum value. The lower the cost, the better the prediction."
   ]
  },
  {
   "cell_type": "markdown",
   "id": "e0cf0516",
   "metadata": {},
   "source": [
    "## Environment Setup\n",
    "\n",
    "As stated, we're going to build and train a fully functioning Neural Network using only **NumPy**. That said, I'm also going to install **matplotlib** just so that we can visualize some of the work as we go. It's completely unnecessary to use matplotlib. Both of these libraries are set in `requirements.txt`.\n",
    "\n",
    "It's also worth pointing out that I'm developing this in Python 3.10. Other versions of Python 3 probably work, too."
   ]
  },
  {
   "cell_type": "code",
   "execution_count": 2,
   "id": "8d95761d",
   "metadata": {},
   "outputs": [
    {
     "name": "stdout",
     "output_type": "stream",
     "text": [
      "Requirement already satisfied: matplotlib==3.5.* in /Users/hodgesmr/.virtualenvs/neural_network/lib/python3.10/site-packages (from -r requirements.txt (line 1)) (3.5.2)\n",
      "Requirement already satisfied: numpy==1.23.* in /Users/hodgesmr/.virtualenvs/neural_network/lib/python3.10/site-packages (from -r requirements.txt (line 2)) (1.23.0)\n",
      "Requirement already satisfied: kiwisolver>=1.0.1 in /Users/hodgesmr/.virtualenvs/neural_network/lib/python3.10/site-packages (from matplotlib==3.5.*->-r requirements.txt (line 1)) (1.4.3)\n",
      "Requirement already satisfied: packaging>=20.0 in /Users/hodgesmr/.virtualenvs/neural_network/lib/python3.10/site-packages (from matplotlib==3.5.*->-r requirements.txt (line 1)) (21.3)\n",
      "Requirement already satisfied: python-dateutil>=2.7 in /Users/hodgesmr/.virtualenvs/neural_network/lib/python3.10/site-packages (from matplotlib==3.5.*->-r requirements.txt (line 1)) (2.8.2)\n",
      "Requirement already satisfied: fonttools>=4.22.0 in /Users/hodgesmr/.virtualenvs/neural_network/lib/python3.10/site-packages (from matplotlib==3.5.*->-r requirements.txt (line 1)) (4.33.3)\n",
      "Requirement already satisfied: cycler>=0.10 in /Users/hodgesmr/.virtualenvs/neural_network/lib/python3.10/site-packages (from matplotlib==3.5.*->-r requirements.txt (line 1)) (0.11.0)\n",
      "Requirement already satisfied: pillow>=6.2.0 in /Users/hodgesmr/.virtualenvs/neural_network/lib/python3.10/site-packages (from matplotlib==3.5.*->-r requirements.txt (line 1)) (9.1.1)\n",
      "Requirement already satisfied: pyparsing>=2.2.1 in /Users/hodgesmr/.virtualenvs/neural_network/lib/python3.10/site-packages (from matplotlib==3.5.*->-r requirements.txt (line 1)) (3.0.9)\n",
      "Requirement already satisfied: six>=1.5 in /Users/hodgesmr/.virtualenvs/neural_network/lib/python3.10/site-packages (from python-dateutil>=2.7->matplotlib==3.5.*->-r requirements.txt (line 1)) (1.16.0)\n",
      "Note: you may need to restart the kernel to use updated packages.\n"
     ]
    }
   ],
   "source": [
    "%pip install -r requirements.txt"
   ]
  }
 ],
 "metadata": {
  "kernelspec": {
   "display_name": "Python 3.10.0 ('neural_network')",
   "language": "python",
   "name": "python3"
  },
  "language_info": {
   "codemirror_mode": {
    "name": "ipython",
    "version": 3
   },
   "file_extension": ".py",
   "mimetype": "text/x-python",
   "name": "python",
   "nbconvert_exporter": "python",
   "pygments_lexer": "ipython3",
   "version": "3.10.0"
  },
  "vscode": {
   "interpreter": {
    "hash": "a4d59240615bdc204a038d83f8a2e00a0f464cd267fddb0bf696d096a2823018"
   }
  }
 },
 "nbformat": 4,
 "nbformat_minor": 5
}
